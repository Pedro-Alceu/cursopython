{
  "nbformat": 4,
  "nbformat_minor": 0,
  "metadata": {
    "colab": {
      "provenance": []
    },
    "kernelspec": {
      "name": "python3",
      "display_name": "Python 3"
    },
    "language_info": {
      "name": "python"
    }
  },
  "cells": [
    {
      "cell_type": "markdown",
      "source": [
        "## ***CALCULADORA INTELIGENTE***"
      ],
      "metadata": {
        "id": "RR6oLL7MykAA"
      }
    },
    {
      "cell_type": "code",
      "source": [
        "num1 = float(input(\"Digite um valor: \"))\n",
        "num2 = float(input(\"Digite outro valor: \"))\n",
        "\n",
        "print(\"Qual das operações listadas abaixo de (1-4) será realizada?:\" )\n",
        "\n",
        "print(\"1 - Soma\")\n",
        "print(\"2 - Subtração\")\n",
        "print(\"3 - Divisão\")\n",
        "print(\"4 - Multiplicação\")\n",
        "\n",
        "conta = input(\"Digite o número referente a operação desejada: \")\n",
        "\n",
        "if (conta == \"1\"):\n",
        "  print(\"O resultado da sua operação é: \", num1+num2)\n",
        "elif (conta == \"2\"):\n",
        "  print(\"O resultado da sua operação é: \", num1-num2)\n",
        "elif (conta == \"3\"):\n",
        "  print(\"O resultado da sua operação é: \", num1/num2)\n",
        "elif (conta == \"4\"):\n",
        "  print(\"O resultado da sua operação é: \", num1*num2)\n",
        "else:\n",
        "  print(\"Opção indiponível no momento, favor tente novamente\")\n",
        "\n",
        ""
      ],
      "metadata": {
        "colab": {
          "base_uri": "https://localhost:8080/"
        },
        "id": "kOX5Wx2Kr30b",
        "outputId": "00e03ef7-08e4-40de-c6d5-e56b2b977de2"
      },
      "execution_count": 15,
      "outputs": [
        {
          "output_type": "stream",
          "name": "stdout",
          "text": [
            "Digite um valor: 10\n",
            "Digite outro valor: 936\n",
            "Qual das operações listadas abaixo de (1-4) será realizada?:\n",
            "1 - Soma\n",
            "2 - Subtração\n",
            "3 - Divisão\n",
            "4 - Multiplicação\n",
            "Digite o número referente a operação desejada: 4\n",
            "O resultado da sua operação é:  9360.0\n"
          ]
        }
      ]
    }
  ]
}