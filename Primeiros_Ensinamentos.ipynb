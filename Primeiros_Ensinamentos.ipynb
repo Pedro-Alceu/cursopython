{
  "nbformat": 4,
  "nbformat_minor": 0,
  "metadata": {
    "colab": {
      "provenance": [],
      "collapsed_sections": [
        "kdYik7p_C6Ka",
        "aROoVLcpEW3O",
        "UrxnNcr2TMcA",
        "twdpfTdnU7Q1"
      ],
      "toc_visible": true
    },
    "kernelspec": {
      "name": "python3",
      "display_name": "Python 3"
    },
    "language_info": {
      "name": "python"
    }
  },
  "cells": [
    {
      "cell_type": "markdown",
      "source": [
        "## **Operadores Aritméticos**"
      ],
      "metadata": {
        "id": "kdYik7p_C6Ka"
      }
    },
    {
      "cell_type": "code",
      "source": [
        "# Adição\n",
        "10 + 2"
      ],
      "metadata": {
        "id": "d3fvhk8gC3dp"
      },
      "execution_count": null,
      "outputs": []
    },
    {
      "cell_type": "code",
      "source": [
        "# Subtração\n",
        "10 - 2"
      ],
      "metadata": {
        "id": "Bby_0M1uDe3E"
      },
      "execution_count": null,
      "outputs": []
    },
    {
      "cell_type": "code",
      "source": [
        "# Multiplicação\n",
        "10 * 2"
      ],
      "metadata": {
        "id": "byktfK2hDrpN"
      },
      "execution_count": null,
      "outputs": []
    },
    {
      "cell_type": "code",
      "source": [
        "# Divisão\n",
        "10 / 2"
      ],
      "metadata": {
        "id": "9crGHj9YDzBt"
      },
      "execution_count": null,
      "outputs": []
    },
    {
      "cell_type": "code",
      "source": [
        "# Divisão Inteira\n",
        "10 // 2"
      ],
      "metadata": {
        "id": "AA86UjIoD7fh"
      },
      "execution_count": null,
      "outputs": []
    },
    {
      "cell_type": "code",
      "source": [
        "# Resto da Divisão\n",
        "10 % 2"
      ],
      "metadata": {
        "id": "o1F3klg4ELbJ"
      },
      "execution_count": null,
      "outputs": []
    },
    {
      "cell_type": "code",
      "source": [
        "# Potenciação\n",
        "10 ** 2"
      ],
      "metadata": {
        "id": "PiiIDog4EQgU"
      },
      "execution_count": null,
      "outputs": []
    },
    {
      "cell_type": "markdown",
      "source": [
        "##**Operadores Relacionais**"
      ],
      "metadata": {
        "id": "aROoVLcpEW3O"
      }
    },
    {
      "cell_type": "code",
      "source": [
        "# Menor\n",
        "10 < 2"
      ],
      "metadata": {
        "id": "VQI_ZCNVEeTS"
      },
      "execution_count": null,
      "outputs": []
    },
    {
      "cell_type": "code",
      "source": [
        "# Menor ou Igual\n",
        "10 <= 2"
      ],
      "metadata": {
        "id": "5UFOeP0HElmk"
      },
      "execution_count": null,
      "outputs": []
    },
    {
      "cell_type": "code",
      "source": [
        "# Maior\n",
        "10 > 2"
      ],
      "metadata": {
        "id": "of7l2YLiEojx"
      },
      "execution_count": null,
      "outputs": []
    },
    {
      "cell_type": "code",
      "source": [
        "# Maior ou Igual\n",
        "10 >= 2"
      ],
      "metadata": {
        "id": "KarYCHZaFBbb"
      },
      "execution_count": null,
      "outputs": []
    },
    {
      "cell_type": "code",
      "source": [
        "# Igual\n",
        "10 ==10"
      ],
      "metadata": {
        "id": "h6NVZE3BFFUQ"
      },
      "execution_count": null,
      "outputs": []
    },
    {
      "cell_type": "code",
      "source": [
        "# Diferente\n",
        "10 != 7"
      ],
      "metadata": {
        "id": "I-tbUzK4FMMj"
      },
      "execution_count": null,
      "outputs": []
    },
    {
      "cell_type": "markdown",
      "source": [
        "##**Operadores Lógicos**"
      ],
      "metadata": {
        "id": "UrxnNcr2TMcA"
      }
    },
    {
      "cell_type": "markdown",
      "source": [
        "* And\n",
        "* Or\n",
        "* Not"
      ],
      "metadata": {
        "id": "SupcF5p-TZtI"
      }
    },
    {
      "cell_type": "markdown",
      "source": [
        "## **Operadores Lógicos**"
      ],
      "metadata": {
        "id": "twdpfTdnU7Q1"
      }
    },
    {
      "cell_type": "markdown",
      "source": [
        "And"
      ],
      "metadata": {
        "id": "CUqO0FZUTuq7"
      }
    },
    {
      "cell_type": "code",
      "source": [
        "print (10 > 2 and 4 < 6) # V and V - V\n",
        "print (10 > 2 and 4 > 6) # V and F - F\n",
        "print (10 < 2 and 4 < 6) # F and V - F\n",
        "print (10 < 2 and 4 > 6) # F and F - F"
      ],
      "metadata": {
        "id": "uX2cgk7OTwab"
      },
      "execution_count": null,
      "outputs": []
    },
    {
      "cell_type": "markdown",
      "source": [
        "Or"
      ],
      "metadata": {
        "id": "U4xudFPNUf19"
      }
    },
    {
      "cell_type": "code",
      "source": [
        "print (10 > 2 or 4 < 6) # V or V - V\n",
        "print (10 > 2 or 4 > 6) # V or F - V\n",
        "print (10 < 2 or 4 < 6) # F or V - V\n",
        "print (10 < 2 or 4 > 6) # F or F - F"
      ],
      "metadata": {
        "id": "zZ9OjV24Uhml"
      },
      "execution_count": null,
      "outputs": []
    },
    {
      "cell_type": "markdown",
      "source": [
        "Not - (Serve para converter o valor real em não real)"
      ],
      "metadata": {
        "id": "TiotKeoDV91r"
      }
    },
    {
      "cell_type": "code",
      "source": [
        "not 10 > 2 # V - F\n",
        "not 10 < 2 # F - V"
      ],
      "metadata": {
        "id": "YbNHmhcHV_EY"
      },
      "execution_count": null,
      "outputs": []
    }
  ]
}