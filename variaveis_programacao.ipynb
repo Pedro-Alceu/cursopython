{
  "nbformat": 4,
  "nbformat_minor": 0,
  "metadata": {
    "colab": {
      "provenance": [],
      "collapsed_sections": [
        "kdYik7p_C6Ka",
        "aROoVLcpEW3O",
        "UrxnNcr2TMcA",
        "twdpfTdnU7Q1"
      ],
      "toc_visible": true
    },
    "kernelspec": {
      "name": "python3",
      "display_name": "Python 3"
    },
    "language_info": {
      "name": "python"
    }
  },
  "cells": [
    {
      "cell_type": "markdown",
      "source": [
        "#**Variáveis**"
      ],
      "metadata": {
        "id": "V6pDkMgLaAJM"
      }
    },
    {
      "cell_type": "markdown",
      "source": [
        "Variáveis estão alocadas em espaços na memória"
      ],
      "metadata": {
        "id": "x3d5ejXXaF8S"
      }
    },
    {
      "cell_type": "code",
      "source": [
        "# Nome da variável é \"x\" que armazena o valor 10 em um espaço na memória.\n",
        "\n",
        "x = 10\n",
        "\n",
        "print(x) # Utilizar referência no nome atribuído."
      ],
      "metadata": {
        "id": "n2HOTaVZaDtC"
      },
      "execution_count": null,
      "outputs": []
    },
    {
      "cell_type": "markdown",
      "source": [
        "Regras"
      ],
      "metadata": {
        "id": "z9zOpw8TaiYP"
      }
    },
    {
      "cell_type": "markdown",
      "source": [
        "**Case Sensitive** (É quando a liguagem difere letras maiúsculas de minúsculas)\n",
        "\n",
        "A!= a\n",
        "\n",
        "**Boas práticas com Variáveis**\n",
        "\n",
        "> Exemplo: Multiplicação de 2 números.\n",
        "\n",
        "Não usar:\n",
        "\n",
        "* Multiplicação\n",
        "* MultiplicacaoDeDoisNumeros\n",
        "* m\n",
        "\n",
        "Usar:\n",
        "\n",
        "* multiplicacao\n",
        "* mult\n",
        "* mult_total (snake_case)\n"
      ],
      "metadata": {
        "id": "T0l_vXTkbuZ4"
      }
    },
    {
      "cell_type": "markdown",
      "source": [
        "##***Python**\n",
        "\n",
        "O python se trata de uma linguagem de alto nível, na qual não é necessário diferenciar certas variáveis, pois o sistema inteligente já faz essa leitura.\n",
        "\n",
        "> Exemplo:\n",
        "\n",
        "A variável \"num\" (número, sendo ele tanto inteiro ou real), pode ser usada apenas como \"num\" para qualquer número:\n",
        "\n",
        "num = 10\n",
        "num = 10.5\n",
        "\n",
        "* Regra:\n",
        "\n",
        "Nunca usar vígula para separar caso seja um float num (número real), usamos apenas \".\"\n",
        "\n",
        "No Python podemos usar tanto aspas duplas como aspas simples.\n",
        "\n",
        "> Inteiro == Int\n",
        "> Real == Float\n",
        "> Texto == String\n",
        "\n",
        "Na linguagem de programação o símbolo sozinho de igual \"=\" é para atribuir um valor para uma variável, o símbolo de igual duplo \"==\" serve para dizer que é realmente igual."
      ],
      "metadata": {
        "id": "V1tNfZm8fK0M"
      }
    }
  ]
}